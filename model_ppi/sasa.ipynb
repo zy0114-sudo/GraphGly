{
 "cells": [
  {
   "cell_type": "code",
   "execution_count": 10,
   "metadata": {},
   "outputs": [
    {
     "name": "stdout",
     "output_type": "stream",
     "text": [
      "1dzb_A.pdb\n",
      "4uuz_A.pdb\n",
      "1ihs_A.pdb\n"
     ]
    }
   ],
   "source": [
    "#A_all\n",
    "import pandas as pd \n",
    "import os \n",
    "data=pd.read_csv('/data5_large/home/yanzh/deeplearn/graph_residue/my_data/protein_new_3222/dataset_shuanglian_buchong/proA/protein_all/file_list.csv')\n",
    "for idx,value in data.iterrows():\n",
    "        os.system('freesasa /data5_large/home/yanzh/deeplearn/graph_residue/my_data/protein_new_3222/dataset_shuanglian_buchong/proA/protein_all/{} -n 100 --depth=residue --format=seq -o /data5_large/home/yanzh/deeplearn/graph_residue/my_data/protein_new_3222/dataset_shuanglian_buchong/proA/protein_all/sasa/{}'.format(pdb,pdb))"
   ]
  }
 ],
 "metadata": {
  "kernelspec": {
   "display_name": "mdanalysis",
   "language": "python",
   "name": "python3"
  },
  "language_info": {
   "codemirror_mode": {
    "name": "ipython",
    "version": 3
   },
   "file_extension": ".py",
   "mimetype": "text/x-python",
   "name": "python",
   "nbconvert_exporter": "python",
   "pygments_lexer": "ipython3",
   "version": "3.8.15"
  }
 },
 "nbformat": 4,
 "nbformat_minor": 2
}
