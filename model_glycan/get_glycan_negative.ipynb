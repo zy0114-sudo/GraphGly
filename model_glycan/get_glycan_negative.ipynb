{
 "cells": [
  {
   "cell_type": "code",
   "execution_count": null,
   "metadata": {},
   "outputs": [],
   "source": [
    "#B negative\n",
    "#protein negative\n",
    "import pandas as pd \n",
    "data=pd.read_csv('/data5_large/home/yanzh/deeplearn/graph_residue/my_data/protein_new_3222/dataset_shuanglian_buchong/proA/protein_all/file_list.csv')\n",
    "for idx,value in data.iterrows():\n",
    "            pdb=value['pdb']\n",
    "            pdb2=pdb[0:4]\n",
    "            pdb2=f'{pdb2}_B.pdb'\n",
    "            print(pdb2)\n",
    "            file1 = f'/data5_large/home/yanzh/deeplearn/graph_residue/my_data/protein_new_3222/dataset_shuanglian_buchong/proB/protein_all/{pdb2}'   #all\n",
    "            file2 = f'/data5_large/home/yanzh/deeplearn/graph_residue/my_data/protein_new_3222/dataset_shuanglian_buchong/proB/protein_postive/{pdb2}'  #pos\n",
    "            list1=[]\n",
    "            with open(file1, 'r') as f1, open(file2, 'r') as f2:\n",
    "                lines1 = f1.readlines()  #总的\n",
    "                lines2 = f2.readlines() #正样本\n",
    "                for num,i in enumerate(lines2):  #正样本\n",
    "                    for numm,ii in enumerate(lines1):  #总的\n",
    "                        if i==ii:\n",
    "                            #print(numm)\n",
    "                            line_index=numm\n",
    "                            list1.append(line_index)\n",
    "            df = pd.read_csv(file1,header=None, delimiter='\\t')\n",
    "            #df = pd.read_fwf(file1, header=None)  # 读取固定宽度格式的 PDB 文件 \n",
    "        # 根据索引位置删除时，可以使用index属性来组合完成\n",
    "            df=df.drop(df.index[list1])\n",
    "        #print(df)\n",
    "        #pandas保存文件\n",
    "            file11 = f'/data5_large/home/yanzh/deeplearn/graph_residue/my_data/protein_new_3222/dataset_shuanglian_buchong/proB/protein_negative/{pdb2}'\n",
    "            df.to_csv(file11, sep='\\t', index=False)"
   ]
  }
 ],
 "metadata": {
  "language_info": {
   "name": "python"
  }
 },
 "nbformat": 4,
 "nbformat_minor": 2
}
